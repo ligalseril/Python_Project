{
 "cells": [
  {
   "cell_type": "code",
   "execution_count": 5,
   "id": "1b9e3c5b",
   "metadata": {},
   "outputs": [
    {
     "name": "stdout",
     "output_type": "stream",
     "text": [
      "name1: Dave\n",
      "name2: Sara\n",
      "name3: Jake\n"
     ]
    }
   ],
   "source": [
    "def myfun(arg1,arg2,arg3):\n",
    "    print(\"name1:\", arg1)\n",
    "    print(\"name2:\", arg2)\n",
    "    print(\"name3:\",arg3)\n",
    "    \n",
    "args=(\"Dave\",\"Sara\",\"Jake\")\n",
    "myfun(*args)"
   ]
  },
  {
   "cell_type": "code",
   "execution_count": 6,
   "id": "5ee06854",
   "metadata": {},
   "outputs": [
    {
     "name": "stdout",
     "output_type": "stream",
     "text": [
      "name1: Dave\n",
      "name2: Elena\n",
      "name3: Dev\n"
     ]
    }
   ],
   "source": [
    "kwargs={\"arg1\":\"Dave\", \"arg2\":\"Elena\",\"arg3\":\"Dev\"}\n",
    "myfun(**kwargs)"
   ]
  }
 ],
 "metadata": {
  "kernelspec": {
   "display_name": "Python 3 (ipykernel)",
   "language": "python",
   "name": "python3"
  },
  "language_info": {
   "codemirror_mode": {
    "name": "ipython",
    "version": 3
   },
   "file_extension": ".py",
   "mimetype": "text/x-python",
   "name": "python",
   "nbconvert_exporter": "python",
   "pygments_lexer": "ipython3",
   "version": "3.9.13"
  }
 },
 "nbformat": 4,
 "nbformat_minor": 5
}
